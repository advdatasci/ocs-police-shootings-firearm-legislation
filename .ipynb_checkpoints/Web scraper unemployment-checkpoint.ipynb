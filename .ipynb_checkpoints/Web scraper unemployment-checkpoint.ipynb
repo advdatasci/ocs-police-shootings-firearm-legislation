{
 "cells": [
  {
   "cell_type": "markdown",
   "metadata": {},
   "source": [
    "### Scraping unemployment data \n",
    "- Data from https://www.bls.gov/lau/lastrk15.htm\n",
    "- Thanks https://stackoverflow.com/questions/41569480/scrape-tables-with-python\n",
    "- and thanks https://srome.github.io/Parsing-HTML-Tables-in-Python-with-BeautifulSoup-and-pandas/"
   ]
  },
  {
   "cell_type": "code",
   "execution_count": 4,
   "metadata": {
    "collapsed": true
   },
   "outputs": [],
   "source": [
    "import requests, bs4\n",
    "r = requests.get('https://www.bls.gov/lau/lastrk15.htm')\n",
    "soup = bs4.BeautifulSoup(r.text, 'lxml')\n",
    "table = soup.find(class_='regular')\n",
    "\n",
    "import pandas as pd\n",
    "unemploymentdf = pd.DataFrame(columns=range(0,3), index = range(50))\n",
    "i=0\n",
    "for tr in table.find_all('tr'):\n",
    "    x = [td for td in tr.stripped_strings]\n",
    "    statelist = list()\n",
    "    if len(x) == 3:\n",
    "        unemploymentdf.loc[i,0] = x[0]\n",
    "        unemploymentdf.loc[i,1] = x[1]\n",
    "        unemploymentdf.loc[i,2] = x[2]\n",
    "        i+=1\n",
    "unemploymentdf.sort_values(by = 0, inplace = True)"
   ]
  },
  {
   "cell_type": "code",
   "execution_count": 5,
   "metadata": {},
   "outputs": [
    {
     "data": {
      "text/html": [
       "<div>\n",
       "<style>\n",
       "    .dataframe thead tr:only-child th {\n",
       "        text-align: right;\n",
       "    }\n",
       "\n",
       "    .dataframe thead th {\n",
       "        text-align: left;\n",
       "    }\n",
       "\n",
       "    .dataframe tbody tr th {\n",
       "        vertical-align: top;\n",
       "    }\n",
       "</style>\n",
       "<table border=\"1\" class=\"dataframe\">\n",
       "  <thead>\n",
       "    <tr style=\"text-align: right;\">\n",
       "      <th></th>\n",
       "      <th>State</th>\n",
       "      <th>2015 Unemployment Rate</th>\n",
       "      <th>Rank</th>\n",
       "    </tr>\n",
       "  </thead>\n",
       "  <tbody>\n",
       "    <tr>\n",
       "      <th>41</th>\n",
       "      <td>Alabama</td>\n",
       "      <td>6.1</td>\n",
       "      <td>42</td>\n",
       "    </tr>\n",
       "    <tr>\n",
       "      <th>46</th>\n",
       "      <td>Alaska</td>\n",
       "      <td>6.5</td>\n",
       "      <td>47</td>\n",
       "    </tr>\n",
       "    <tr>\n",
       "      <th>42</th>\n",
       "      <td>Arizona</td>\n",
       "      <td>6.1</td>\n",
       "      <td>42</td>\n",
       "    </tr>\n",
       "    <tr>\n",
       "      <th>23</th>\n",
       "      <td>Arkansas</td>\n",
       "      <td>5.0</td>\n",
       "      <td>24</td>\n",
       "    </tr>\n",
       "    <tr>\n",
       "      <th>43</th>\n",
       "      <td>California</td>\n",
       "      <td>6.2</td>\n",
       "      <td>44</td>\n",
       "    </tr>\n",
       "  </tbody>\n",
       "</table>\n",
       "</div>"
      ],
      "text/plain": [
       "         State 2015 Unemployment Rate Rank\n",
       "41     Alabama                    6.1   42\n",
       "46      Alaska                    6.5   47\n",
       "42     Arizona                    6.1   42\n",
       "23    Arkansas                    5.0   24\n",
       "43  California                    6.2   44"
      ]
     },
     "execution_count": 5,
     "metadata": {},
     "output_type": "execute_result"
    }
   ],
   "source": [
    "unemploymentdf.columns = ['State','2015 Unemployment Rate','Rank']\n",
    "unemploymentdf.head()"
   ]
  },
  {
   "cell_type": "code",
   "execution_count": 7,
   "metadata": {},
   "outputs": [],
   "source": [
    "unemploymentdf.to_csv('Unemployment_scraped.csv',header=True, index=False)"
   ]
  },
  {
   "cell_type": "code",
   "execution_count": null,
   "metadata": {
    "collapsed": true
   },
   "outputs": [],
   "source": []
  }
 ],
 "metadata": {
  "kernelspec": {
   "display_name": "Python 3",
   "language": "python",
   "name": "python3"
  },
  "language_info": {
   "codemirror_mode": {
    "name": "ipython",
    "version": 3
   },
   "file_extension": ".py",
   "mimetype": "text/x-python",
   "name": "python",
   "nbconvert_exporter": "python",
   "pygments_lexer": "ipython3",
   "version": "3.6.3"
  }
 },
 "nbformat": 4,
 "nbformat_minor": 2
}
